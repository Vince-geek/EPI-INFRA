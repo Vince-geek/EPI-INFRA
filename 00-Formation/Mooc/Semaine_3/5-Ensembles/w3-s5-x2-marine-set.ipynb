{
 "cells": [
  {
   "cell_type": "markdown",
   "metadata": {},
   "source": [
    "<style>div.title-slide {    width: 100%;    display: flex;    flex-direction: row;            /* default value; can be omitted */    flex-wrap: nowrap;              /* default value; can be omitted */    justify-content: space-between;}</style><div class=\"title-slide\">\n",
    "<span style=\"float:left;\">Licence CC BY-NC-ND</span>\n",
    "<span>Thierry Parmentelat &amp; Arnaud Legout</span>\n",
    "<span><img src=\"media/both-logos-small-alpha.png\" style=\"display:inline\" /></span>\n",
    "</div>"
   ]
  },
  {
   "cell_type": "markdown",
   "metadata": {},
   "source": [
    "# Exercice sur les ensembles"
   ]
  },
  {
   "cell_type": "markdown",
   "metadata": {},
   "source": [
    "## Exercice - niveau intermédiaire"
   ]
  },
  {
   "cell_type": "code",
   "execution_count": null,
   "metadata": {},
   "outputs": [],
   "source": [
    "# chargement de l'exercice\n",
    "from corrections.exo_marine_set import exo_diff"
   ]
  },
  {
   "cell_type": "markdown",
   "metadata": {},
   "source": [
    "### Les données"
   ]
  },
  {
   "cell_type": "markdown",
   "metadata": {},
   "source": [
    "Nous reprenons le même genre de données marines en provenance de MarineTraffic que nous avons vues dans l'exercice précédent."
   ]
  },
  {
   "cell_type": "code",
   "execution_count": null,
   "metadata": {},
   "outputs": [],
   "source": [
    "from corrections.exo_marine_set import abbreviated, extended"
   ]
  },
  {
   "cell_type": "markdown",
   "metadata": {},
   "source": [
    "### Rappels sur les formats"
   ]
  },
  {
   "cell_type": "markdown",
   "metadata": {},
   "source": [
    "    étendu: [id, latitude, longitude, date_heure, nom_bateau, code_pays...]\n",
    "    abrégé: [id, latitude, longitude, date_heure]"
   ]
  },
  {
   "cell_type": "code",
   "execution_count": null,
   "metadata": {},
   "outputs": [],
   "source": [
    "print(extended[0])"
   ]
  },
  {
   "cell_type": "code",
   "execution_count": null,
   "metadata": {},
   "outputs": [],
   "source": [
    "print(abbreviated[0])"
   ]
  },
  {
   "cell_type": "markdown",
   "metadata": {},
   "source": [
    "### But de l'exercice"
   ]
  },
  {
   "cell_type": "code",
   "execution_count": null,
   "metadata": {},
   "outputs": [],
   "source": [
    "# chargement de l'exercice\n",
    "from corrections.exo_marine_set import exo_diff"
   ]
  },
  {
   "cell_type": "markdown",
   "metadata": {},
   "source": [
    "Notez bien une différence importante avec l'exercice précédent: cette fois **il n'y a plus correspondance** entre les bateaux rapportés dans les données étendues et abrégées. \n",
    "\n",
    "Le but de l'exercice est précisément d'étudier la différence, et pour cela on vous demande d'écrire une fonction \n",
    "\n",
    "    diff(extended, abbreviated)\n",
    "\n",
    "qui retourne un tuple à trois éléments\n",
    " * l'ensemble (`set`) des **noms** des bateaux présents dans `extended` mais pas dans `abbreviated`\n",
    " * l'ensemble des **noms** des bateaux présents dans `extended` et dans `abbreviated`\n",
    " * l'ensemble des **id** des bateaux présents dans `abbreviated`\n",
    " mais pas dans `extended` (par construction, les données ne nous permettent pas d'obtenir les noms de ces bateaux)"
   ]
  },
  {
   "cell_type": "code",
   "execution_count": null,
   "metadata": {},
   "outputs": [],
   "source": [
    "# le résultat attendu\n",
    "result = exo_diff.resultat(extended, abbreviated)\n",
    "\n",
    "# combien de bateaux sont concernés\n",
    "def show_result(extended, abbreviated, result):\n",
    "    \"\"\"\n",
    "    Affiche divers décomptes sur les arguments\n",
    "    en entrée et en sortie de diff\n",
    "    \"\"\"\n",
    "    print(10*'-', \"Les entrées\")\n",
    "    print(f\"Dans extended: {len(extended)} entrées\")\n",
    "    print(f\"Dans abbreviated: {len(abbreviated)} entrées\")\n",
    "    print(10*'-', \"Le résultat du diff\")\n",
    "    extended_only, both, abbreviated_only = result\n",
    "    print(f\"Dans extended mais pas dans abbreviated {len(extended_only)}\")\n",
    "    print(f\"Dans les deux {len(both)}\")\n",
    "    print(f\"Dans abbreviated mais pas dans extended {len(abbreviated_only)}\")\n",
    "\n",
    "show_result(extended, abbreviated, result)"
   ]
  },
  {
   "cell_type": "markdown",
   "metadata": {},
   "source": [
    "### Votre code"
   ]
  },
  {
   "cell_type": "code",
   "execution_count": null,
   "metadata": {
    "collapsed": true
   },
   "outputs": [],
   "source": [
    "def diff(extended, abbreviated):\n",
    "    \"<votre_code>\""
   ]
  },
  {
   "cell_type": "markdown",
   "metadata": {},
   "source": [
    "### Validation"
   ]
  },
  {
   "cell_type": "code",
   "execution_count": null,
   "metadata": {
    "collapsed": true
   },
   "outputs": [],
   "source": [
    "exo_diff.correction(diff, extended, abbreviated)"
   ]
  },
  {
   "cell_type": "markdown",
   "metadata": {},
   "source": [
    "### Des fichiers de données plus réalistes"
   ]
  },
  {
   "cell_type": "markdown",
   "metadata": {},
   "source": [
    "Comme pour l'exercice précédent, les données fournies ici sont très simplistes; vous pouvez si vous le voulez essayer votre code avec des données (un peu) plus réalistes en chargeant des fichiers de données plus complets:\n",
    "\n",
    " * [data/marine-e2-ext.json](data/marine-e2-ext.json)\n",
    " * [data/marine-e2-abb.json](data/marine-e2-abb.json)\n",
    "\n",
    "Ce qui donnerait en python:"
   ]
  },
  {
   "cell_type": "code",
   "execution_count": null,
   "metadata": {
    "collapsed": true
   },
   "outputs": [],
   "source": [
    "# load data from files\n",
    "import json\n",
    "\n",
    "with open(\"data/marine-e2-ext.json\", encoding=\"utf-8\") as feed:\n",
    "    extended_full = json.load(feed)\n",
    "    \n",
    "with open(\"data/marine-e2-abb.json\", encoding=\"utf-8\") as feed:\n",
    "    abbreviated_full = json.load(feed)"
   ]
  },
  {
   "cell_type": "code",
   "execution_count": null,
   "metadata": {
    "collapsed": true
   },
   "outputs": [],
   "source": [
    "# le résultat de votre fonction sur des données plus vastes\n",
    "# attention que show_result fait des hypothèses sur le type de votre résultat\n",
    "# aussi si vous essayez d'exécuter ceci avec comme fonction diff\n",
    "# la version vide qui est dans le notebook original\n",
    "# cela peut provoquer une exception \n",
    "diff_full = diff(extended_full, abbreviated_full)\n",
    "show_result(extended_full, abbreviated_full, diff_full)"
   ]
  },
  {
   "cell_type": "markdown",
   "metadata": {},
   "source": [
    "Je signale enfin à propos de ces données plus complètes que:\n",
    "  * on a supprimé les entrées correspondants à des bateaux différents mais de même nom; cette situation peut arriver dans la réalité (c'est pourquoi d'ailleurs les bateaux ont un *id*) mais ici ce n'est pas le cas.\n",
    "  * il se peut par contre qu'un même bateau fasse l'objet de plusieurs mesures dans `extended` et/ou dans `abbreviated`."
   ]
  }
 ],
 "metadata": {
  "kernelspec": {
   "display_name": "Python 3",
   "language": "python",
   "name": "python3"
  },
  "language_info": {
   "codemirror_mode": {
    "name": "ipython",
    "version": 3
   },
   "file_extension": ".py",
   "mimetype": "text/x-python",
   "name": "python",
   "nbconvert_exporter": "python",
   "pygments_lexer": "ipython3",
   "version": "3.6.3"
  },
  "livereveal": {
   "auto_select": "code",
   "auto_select_fragment": true,
   "autolaunch": false,
   "backimage": "media/nologo.png",
   "height": "100%",
   "slideNumber": "c",
   "start_slideshow_at": "selected",
   "theme": "simple",
   "transition": "fade",
   "width": "100%"
  },
  "notebookname": "Ensembles",
  "version": "3.0"
 },
 "nbformat": 4,
 "nbformat_minor": 1
}